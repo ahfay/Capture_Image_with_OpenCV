{
 "cells": [
  {
   "cell_type": "code",
   "execution_count": null,
   "metadata": {},
   "outputs": [],
   "source": [
    "import cv2\n",
    "\n",
    "capt = cv2.VideoCapture(0)\n",
    "if not capt.isOpened():\n",
    "    exit(0)\n",
    "    \n",
    "frameFrequency = 25\n",
    "video_images = 'd:\\\\name-folder\\\\'\n",
    "\n",
    "total_frame = 0\n",
    "id = 0\n",
    "while True:\n",
    "    ret, frame = capt.read()\n",
    "    if ret is False:\n",
    "        break\n",
    "    total_frame += 1\n",
    "    if total_frame%frameFrequency == 0:\n",
    "        id += 1\n",
    "        image_name = video_images + str(id) +'.jpg'\n",
    "        cv2.imwrite(image_name, frame)\n",
    "        print(image_name)\n",
    "\n",
    "    cv2.imshow('ui', frame)\n",
    "    \n",
    "    if cv2.waitKey(1) == ord('q'):\n",
    "        break\n",
    "\n",
    "cv2.destroyAllWindows()\n",
    "capt.release()"
   ]
  }
 ],
 "metadata": {
  "kernelspec": {
   "display_name": "Python 3",
   "language": "python",
   "name": "python3"
  },
  "language_info": {
   "codemirror_mode": {
    "name": "ipython",
    "version": 3
   },
   "file_extension": ".py",
   "mimetype": "text/x-python",
   "name": "python",
   "nbconvert_exporter": "python",
   "pygments_lexer": "ipython3",
   "version": "3.8.3"
  }
 },
 "nbformat": 4,
 "nbformat_minor": 4
}
